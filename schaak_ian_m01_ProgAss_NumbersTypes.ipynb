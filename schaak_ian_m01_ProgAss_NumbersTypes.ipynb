{
 "cells": [
  {
   "cell_type": "code",
   "execution_count": 1,
   "id": "1eb13cd4",
   "metadata": {},
   "outputs": [
    {
     "name": "stdout",
     "output_type": "stream",
     "text": [
      "3600\n"
     ]
    }
   ],
   "source": [
    "#3.1\n",
    "answer1 = 60*60\n",
    "print(answer1)"
   ]
  },
  {
   "cell_type": "code",
   "execution_count": 2,
   "id": "eeef2e0e",
   "metadata": {},
   "outputs": [
    {
     "name": "stdout",
     "output_type": "stream",
     "text": [
      "3600\n"
     ]
    }
   ],
   "source": [
    "seconds_per_hour = answer1 #3.2\n",
    "print(seconds_per_hour)"
   ]
  },
  {
   "cell_type": "code",
   "execution_count": 3,
   "id": "61ba0fbd",
   "metadata": {},
   "outputs": [
    {
     "name": "stdout",
     "output_type": "stream",
     "text": [
      "86400\n"
     ]
    }
   ],
   "source": [
    "seconds_per_day = seconds_per_hour*24 #3.4\n",
    "print(seconds_per_day)"
   ]
  },
  {
   "cell_type": "code",
   "execution_count": 4,
   "id": "826be6c0",
   "metadata": {},
   "outputs": [
    {
     "name": "stdout",
     "output_type": "stream",
     "text": [
      "24.0\n"
     ]
    }
   ],
   "source": [
    "answer3_5 = seconds_per_day / seconds_per_hour\n",
    "print(answer3_5)"
   ]
  },
  {
   "cell_type": "code",
   "execution_count": 5,
   "id": "33c3963e",
   "metadata": {},
   "outputs": [
    {
     "name": "stdout",
     "output_type": "stream",
     "text": [
      "24\n"
     ]
    }
   ],
   "source": [
    "answer3_6 = seconds_per_day // seconds_per_hour\n",
    "print(answer3_6)"
   ]
  },
  {
   "cell_type": "code",
   "execution_count": 6,
   "id": "a2498de8",
   "metadata": {},
   "outputs": [],
   "source": [
    "#this last number did agree with the previous one."
   ]
  },
  {
   "cell_type": "code",
   "execution_count": null,
   "id": "2b5d1298",
   "metadata": {},
   "outputs": [],
   "source": [
    "answer3_3 = 86400"
   ]
  }
 ],
 "metadata": {
  "kernelspec": {
   "display_name": "Python 3 (ipykernel)",
   "language": "python",
   "name": "python3"
  },
  "language_info": {
   "codemirror_mode": {
    "name": "ipython",
    "version": 3
   },
   "file_extension": ".py",
   "mimetype": "text/x-python",
   "name": "python",
   "nbconvert_exporter": "python",
   "pygments_lexer": "ipython3",
   "version": "3.9.12"
  }
 },
 "nbformat": 4,
 "nbformat_minor": 5
}
